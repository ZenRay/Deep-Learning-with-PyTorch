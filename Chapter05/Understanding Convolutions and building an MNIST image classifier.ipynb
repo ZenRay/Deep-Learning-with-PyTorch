{
 "cells": [
  {
   "cell_type": "code",
   "execution_count": 1,
   "metadata": {},
   "outputs": [],
   "source": [
    "import torch\n",
    "import torch.nn as nn\n",
    "import torch.nn.functional as F\n",
    "import torch.optim as optim\n",
    "from torchvision import datasets,transforms\n",
    "from torch.autograd import Variable # Variable class is deprecated\n",
    "import matplotlib.pyplot as plt\n",
    "import os\n",
    "\n",
    "%matplotlib inline"
   ]
  },
  {
   "cell_type": "code",
   "execution_count": 2,
   "metadata": {},
   "outputs": [],
   "source": [
    "is_cuda=False\n",
    "if torch.cuda.is_available():\n",
    "    is_cuda = True\n",
    "    \n",
    "# setup variable device to store cuda property\n",
    "device = \"cuda\" if torch.cuda.is_available() else \"cpu\""
   ]
  },
  {
   "cell_type": "code",
   "execution_count": 3,
   "metadata": {},
   "outputs": [],
   "source": [
    "# download datasetes if data directory doesn't exist\n",
    "download = not os.path.exists(\"data\")"
   ]
  },
  {
   "cell_type": "code",
   "execution_count": 4,
   "metadata": {},
   "outputs": [],
   "source": [
    "transformation = transforms.Compose([transforms.ToTensor(),transforms.Normalize((0.1307,), (0.3081,))])\n",
    "\n",
    "train_dataset = datasets.MNIST('data/', train=True, transform=transformation, download=download)\n",
    "test_dataset = datasets.MNIST('data/', train=False, transform=transformation, download=download)\n",
    "\n",
    "train_loader = torch.utils.data.DataLoader(train_dataset, batch_size=32, shuffle=True)\n",
    "test_loader = torch.utils.data.DataLoader(test_dataset, batch_size=32, shuffle=True)"
   ]
  },
  {
   "cell_type": "code",
   "execution_count": 5,
   "metadata": {},
   "outputs": [],
   "source": [
    "sample_data = next(iter(train_loader))"
   ]
  },
  {
   "cell_type": "code",
   "execution_count": 6,
   "metadata": {},
   "outputs": [
    {
     "data": {
      "image/png": "[encoded data removed]",
      "text/plain": [
       "<Figure size 432x288 with 1 Axes>"
      ]
     },
     "metadata": {
      "needs_background": "light"
     },
     "output_type": "display_data"
    }
   ],
   "source": [
    "# data image\n",
    "plt.imshow(sample_data[0][2].numpy()[0], cmap=\"gray\");"
   ]
  },
  {
   "cell_type": "code",
   "execution_count": 7,
   "metadata": {},
   "outputs": [
    {
     "data": {
      "image/png": "[encoded data removed]",
      "text/plain": [
       "<Figure size 432x288 with 1 Axes>"
      ]
     },
     "metadata": {
      "needs_background": "light"
     },
     "output_type": "display_data"
    }
   ],
   "source": [
    "# Caution: the function is neither normalization or reverse operation\n",
    "# normalization function: z = (x - \\mu) / s\n",
    "def plot_img(image):\n",
    "    image = image.numpy()[0]\n",
    "    mean = 0.1307\n",
    "    std = 0.3081\n",
    "    image = ((mean * image) + std)\n",
    "    plt.imshow(image,cmap='gray')\n",
    "\n",
    "plot_img(sample_data[0][2])"
   ]
  },
  {
   "cell_type": "code",
   "execution_count": 8,
   "metadata": {},
   "outputs": [
    {
     "data": {
      "image/png": "[encoded data removed]",
      "text/plain": [
       "<Figure size 432x288 with 1 Axes>"
      ]
     },
     "metadata": {
      "needs_background": "light"
     },
     "output_type": "display_data"
    }
   ],
   "source": [
    "plot_img(sample_data[0][1])"
   ]
  },
  {
   "cell_type": "code",
   "execution_count": 9,
   "metadata": {},
   "outputs": [
    {
     "data": {
      "image/png": "[encoded data removed]",
      "text/plain": [
       "<Figure size 432x288 with 1 Axes>"
      ]
     },
     "metadata": {
      "needs_background": "light"
     },
     "output_type": "display_data"
    }
   ],
   "source": [
    "# reverse the normalization tranform\n",
    "def reverse_transform(image, mean=0.1307, std=0.3081):\n",
    "    image = image.numpy() * std + mean\n",
    "    plt.imshow(image[0], cmap=\"gray\")\n",
    "    \n",
    "reverse_transform(sample_data[0][2])"
   ]
  },
  {
   "cell_type": "code",
   "execution_count": 10,
   "metadata": {
    "scrolled": true
   },
   "outputs": [
    {
     "data": {
      "image/png": "[encoded data removed]",
      "text/plain": [
       "<Figure size 432x288 with 1 Axes>"
      ]
     },
     "metadata": {
      "needs_background": "light"
     },
     "output_type": "display_data"
    }
   ],
   "source": [
    "reverse_transform(sample_data[0][1])"
   ]
  },
  {
   "cell_type": "markdown",
   "metadata": {},
   "source": [
    "### Single Convolution Blog\n",
    "通过使用单个卷积 block 对单个图片的处理过程了，解卷积网络中 Conv 的使用过程。需要<font color='red'>注意卷积层的 weight 和 bias 是初始值是通过均匀分布获取</font>——均匀分布模式为：\n",
    "\n",
    "$$\n",
    "\\mu(\\sqrt{k}, \\sqrt{k}) \\\\\n",
    "k = \\frac{1}{C_{in} \\times \\displaystyle{\\prod_{i=0}^m kernel\\_size}}\n",
    "$$\n",
    "\n",
    "m 值与使用的卷积维度相关，一维卷积的值为 0，二维（[Conv2d](https://pytorch.org/docs/stable/nn.html#conv2d)）为 1 以此类推。如果需要对 weight 和 bias 的数据进行调整，可以使用 [apply](https://pytorch.org/docs/master/nn.html#torch.nn.Module.apply) 方法对参数权重进行调整。\n",
    "\n",
    "卷积层的计算过程是矩阵乘法计算的过程，在 [Image Kernels explained visually](http://setosa.io/ev/image-kernels/) 中进行了可视化表述卷积计算过程"
   ]
  },
  {
   "cell_type": "code",
   "execution_count": 11,
   "metadata": {},
   "outputs": [
    {
     "data": {
      "text/plain": [
       "Parameter containing:\n",
       "tensor([[[[ 0.1928, -0.0438,  0.0465, -0.1405,  0.1004],\n",
       "          [-0.0039, -0.0433, -0.1418,  0.0236,  0.0644],\n",
       "          [ 0.0657,  0.0546, -0.0626, -0.0225,  0.0460],\n",
       "          [-0.0056,  0.0595,  0.1033, -0.1560, -0.0112],\n",
       "          [-0.0030, -0.1698, -0.1003, -0.0157,  0.1521]]],\n",
       "\n",
       "\n",
       "        [[[ 0.1608,  0.1660, -0.0437, -0.0341,  0.0520],\n",
       "          [ 0.0862,  0.1838,  0.1472,  0.1936, -0.1372],\n",
       "          [ 0.1632, -0.0189, -0.1289, -0.0216, -0.0910],\n",
       "          [ 0.1267,  0.1526,  0.0584,  0.1249,  0.0791],\n",
       "          [-0.0957, -0.1171,  0.1932, -0.1731,  0.1969]]],\n",
       "\n",
       "\n",
       "        [[[-0.1232,  0.0888, -0.1243, -0.0881, -0.0083],\n",
       "          [-0.0025,  0.1644, -0.0385,  0.1604,  0.1087],\n",
       "          [ 0.0683,  0.1627, -0.1884, -0.0085,  0.0610],\n",
       "          [ 0.0658, -0.0175,  0.0990, -0.1725, -0.1851],\n",
       "          [ 0.0871,  0.1892,  0.1649,  0.0235,  0.1412]]],\n",
       "\n",
       "\n",
       "        [[[ 0.0031, -0.1224, -0.0665,  0.1923,  0.0461],\n",
       "          [ 0.1352,  0.0353, -0.1029,  0.0318, -0.1944],\n",
       "          [-0.1762, -0.0467,  0.0215, -0.1978, -0.1331],\n",
       "          [-0.1284,  0.0729, -0.0209,  0.1858, -0.0188],\n",
       "          [-0.1582,  0.1760, -0.0071,  0.1831,  0.1462]]],\n",
       "\n",
       "\n",
       "        [[[ 0.0310,  0.0937, -0.1376,  0.0414, -0.0695],\n",
       "          [-0.1291,  0.1705,  0.0792, -0.0976,  0.0809],\n",
       "          [-0.1681, -0.0485, -0.1758,  0.1898,  0.1596],\n",
       "          [ 0.0211, -0.0071,  0.0683,  0.1952, -0.1791],\n",
       "          [-0.1801,  0.1305,  0.0057, -0.1229, -0.0122]]],\n",
       "\n",
       "\n",
       "        [[[-0.0919,  0.0312,  0.0038,  0.1947, -0.0938],\n",
       "          [-0.1111, -0.1857, -0.0799, -0.0512,  0.0638],\n",
       "          [-0.1822,  0.0129, -0.1311, -0.1527, -0.1603],\n",
       "          [-0.1709,  0.0764, -0.0039, -0.0610, -0.1397],\n",
       "          [-0.1199,  0.1075,  0.0511,  0.0239, -0.0253]]],\n",
       "\n",
       "\n",
       "        [[[ 0.1443, -0.0476, -0.0426,  0.0168,  0.1387],\n",
       "          [-0.1712, -0.0593, -0.1815,  0.1976, -0.0504],\n",
       "          [ 0.0545,  0.1066,  0.1552,  0.1786,  0.1774],\n",
       "          [-0.0082,  0.1178, -0.0868, -0.1577, -0.1013],\n",
       "          [-0.0516, -0.1179, -0.1704, -0.1812,  0.1431]]],\n",
       "\n",
       "\n",
       "        [[[-0.1051, -0.1969,  0.1227,  0.1111, -0.1081],\n",
       "          [ 0.0195,  0.1826,  0.1671, -0.0238, -0.1599],\n",
       "          [ 0.0495,  0.0860,  0.0417,  0.0331, -0.1936],\n",
       "          [ 0.1643,  0.0688, -0.1981, -0.1221,  0.1962],\n",
       "          [-0.1313, -0.1208, -0.1709,  0.1501,  0.1150]]],\n",
       "\n",
       "\n",
       "        [[[ 0.0574,  0.1537,  0.0140,  0.1086, -0.0679],\n",
       "          [ 0.0450, -0.1600, -0.1645, -0.0643, -0.0642],\n",
       "          [-0.0709,  0.0519,  0.1080,  0.0805, -0.1999],\n",
       "          [-0.0595,  0.1721,  0.1796,  0.0013, -0.0055],\n",
       "          [-0.1395, -0.1047,  0.1311, -0.1416, -0.1802]]],\n",
       "\n",
       "\n",
       "        [[[ 0.1075, -0.1763, -0.1320, -0.1892,  0.1345],\n",
       "          [ 0.1928,  0.0449, -0.0446,  0.1922,  0.1010],\n",
       "          [ 0.1160,  0.1950, -0.1821, -0.0066, -0.1372],\n",
       "          [ 0.0528,  0.0176, -0.1667,  0.0160,  0.0259],\n",
       "          [-0.0012,  0.1985, -0.0081, -0.1389, -0.0877]]]], requires_grad=True)"
      ]
     },
     "execution_count": 11,
     "metadata": {},
     "output_type": "execute_result"
    }
   ],
   "source": [
    "conv2d_1 = nn.Conv2d(1, 10, kernel_size=5)\n",
    "conv2d_2 = nn.Conv2d(10, 20, kernel_size=5)\n",
    "conv2d_1.weight"
   ]
  },
  {
   "cell_type": "code",
   "execution_count": 12,
   "metadata": {},
   "outputs": [
    {
     "data": {
      "text/plain": [
       "tensor([[[[-0.1688, -0.1688, -0.1688,  ..., -0.1688, -0.1688, -0.1688],\n",
       "          [-0.1688, -0.1688, -0.1688,  ..., -0.1688, -0.1688, -0.1688],\n",
       "          [-0.1688, -0.1688, -0.1688,  ..., -0.1688, -0.1688, -0.1688],\n",
       "          ...,\n",
       "          [-0.1688, -0.1688, -0.1688,  ..., -0.1688, -0.1688, -0.1688],\n",
       "          [-0.1688, -0.1688, -0.1688,  ..., -0.1688, -0.1688, -0.1688],\n",
       "          [-0.1688, -0.1688, -0.1688,  ..., -0.1688, -0.1688, -0.1688]],\n",
       "\n",
       "         [[-0.4392, -0.4392, -0.4392,  ..., -0.4392, -0.4392, -0.4392],\n",
       "          [-0.4392, -0.4392, -0.4392,  ..., -0.4392, -0.4392, -0.4392],\n",
       "          [-0.4392, -0.4392, -0.4392,  ..., -0.4392, -0.4392, -0.4392],\n",
       "          ...,\n",
       "          [-0.4392, -0.4392, -0.4392,  ..., -0.4392, -0.4392, -0.4392],\n",
       "          [-0.4392, -0.4392, -0.4392,  ..., -0.4392, -0.4392, -0.4392],\n",
       "          [-0.4392, -0.4392, -0.4392,  ..., -0.4392, -0.4392, -0.4392]],\n",
       "\n",
       "         [[-0.2936, -0.2936, -0.2936,  ..., -0.2936, -0.2936, -0.2936],\n",
       "          [-0.2936, -0.2936, -0.2936,  ..., -0.2936, -0.2936, -0.2936],\n",
       "          [-0.2936, -0.2936, -0.2936,  ..., -0.2936, -0.2936, -0.2936],\n",
       "          ...,\n",
       "          [-0.2936, -0.2936, -0.2936,  ..., -0.2936, -0.2936, -0.2936],\n",
       "          [-0.2936, -0.2936, -0.2936,  ..., -0.2936, -0.2936, -0.2936],\n",
       "          [-0.2936, -0.2936, -0.2936,  ..., -0.2936, -0.2936, -0.2936]],\n",
       "\n",
       "         ...,\n",
       "\n",
       "         [[-0.0127, -0.0127, -0.0127,  ..., -0.0127, -0.0127, -0.0127],\n",
       "          [-0.0127, -0.0127, -0.0127,  ..., -0.0127, -0.0127, -0.0127],\n",
       "          [-0.0127, -0.0127, -0.0127,  ..., -0.0127, -0.0127, -0.0127],\n",
       "          ...,\n",
       "          [-0.0127, -0.0127, -0.0127,  ..., -0.0127, -0.0127, -0.0127],\n",
       "          [-0.0127, -0.0127, -0.0127,  ..., -0.0127, -0.0127, -0.0127],\n",
       "          [-0.0127, -0.0127, -0.0127,  ..., -0.0127, -0.0127, -0.0127]],\n",
       "\n",
       "         [[-0.0562, -0.0562, -0.0562,  ..., -0.0562, -0.0562, -0.0562],\n",
       "          [-0.0562, -0.0562, -0.0562,  ..., -0.0562, -0.0562, -0.0562],\n",
       "          [-0.0562, -0.0562, -0.0562,  ..., -0.0562, -0.0562, -0.0562],\n",
       "          ...,\n",
       "          [-0.0562, -0.0562, -0.0562,  ..., -0.0562, -0.0562, -0.0562],\n",
       "          [-0.0562, -0.0562, -0.0562,  ..., -0.0562, -0.0562, -0.0562],\n",
       "          [-0.0562, -0.0562, -0.0562,  ..., -0.0562, -0.0562, -0.0562]],\n",
       "\n",
       "         [[-0.1419, -0.1419, -0.1419,  ..., -0.1419, -0.1419, -0.1419],\n",
       "          [-0.1419, -0.1419, -0.1419,  ..., -0.1419, -0.1419, -0.1419],\n",
       "          [-0.1419, -0.1419, -0.1419,  ..., -0.1419, -0.1419, -0.1419],\n",
       "          ...,\n",
       "          [-0.1419, -0.1419, -0.1419,  ..., -0.1419, -0.1419, -0.1419],\n",
       "          [-0.1419, -0.1419, -0.1419,  ..., -0.1419, -0.1419, -0.1419],\n",
       "          [-0.1419, -0.1419, -0.1419,  ..., -0.1419, -0.1419, -0.1419]]]],\n",
       "       grad_fn=<MkldnnConvolutionBackward>)"
      ]
     },
     "execution_count": 12,
     "metadata": {},
     "output_type": "execute_result"
    }
   ],
   "source": [
    "# 需要调整数据维度——图片数量 * 图像通道数 * 图像宽度 * 图像高度\n",
    "test_data = sample_data[0][1]\n",
    "test_data.resize_(1, *test_data.shape)\n",
    "conv_sample = conv2d_1(test_data)\n",
    "conv_sample"
   ]
  },
  {
   "cell_type": "markdown",
   "metadata": {},
   "source": [
    "池化层通常使用 MaxPooling 和 AveragePooling，但可选方法具有多种。池化计算中并没有权重的计算，因此在反馈计算中它并不需要进行权重更新"
   ]
  },
  {
   "cell_type": "code",
   "execution_count": 13,
   "metadata": {},
   "outputs": [],
   "source": [
    "pool_sample = F.max_pool2d(conv_sample, 2)"
   ]
  },
  {
   "cell_type": "code",
   "execution_count": 14,
   "metadata": {},
   "outputs": [
    {
     "name": "stdout",
     "output_type": "stream",
     "text": [
      "Origin data dimentions: torch.Size([1, 1, 28, 28])\n",
      "First convolution layers dimentions: torch.Size([1, 10, 24, 24]) with weight dimentions: torch.Size([10, 1, 5, 5])\n",
      "Pooling layers dimentions: torch.Size([1, 10, 12, 12]) with filter dimentions: (2, 2)\n",
      "Second convolution layers dimentions: torch.Size([1, 20, 8, 8]) with weight dimentions: torch.Size([20, 10, 5, 5])\n",
      "Last layer dimentions: torch.Size([1, 20, 4, 4])\n"
     ]
    }
   ],
   "source": [
    "print(\n",
    "    f\"Origin data dimentions: {test_data.shape}\"\n",
    "    f\"\\nFirst convolution layers dimentions: {conv_sample.shape} with weight dimentions: {conv2d_1.weight.shape}\"\n",
    "    f\"\\nPooling layers dimentions: {pool_sample.shape} with filter dimentions: (2, 2)\"\n",
    "    f\"\\nSecond convolution layers dimentions: {conv2d_2(pool_sample).shape} with weight dimentions: {conv2d_2.weight.shape}\"\n",
    "    f\"\\nLast layer dimentions: {F.max_pool2d(conv2d_2(pool_sample), 2).shape}\"\n",
    ")"
   ]
  },
  {
   "cell_type": "code",
   "execution_count": 15,
   "metadata": {},
   "outputs": [
    {
     "data": {
      "text/plain": [
       "torch.Size([1, 320])"
      ]
     },
     "execution_count": 15,
     "metadata": {},
     "output_type": "execute_result"
    }
   ],
   "source": [
    "F.max_pool2d(conv2d_2(pool_sample), 2).view(1, -1).shape"
   ]
  },
  {
   "cell_type": "markdown",
   "metadata": {},
   "source": [
    "通过卷积层之后，需要处理进行 Flatten 之后才能作为全连接层的输入。"
   ]
  },
  {
   "cell_type": "code",
   "execution_count": 16,
   "metadata": {},
   "outputs": [],
   "source": [
    "fc1 = F.linear(\n",
    "    F.max_pool2d(\n",
    "        conv2d_2(pool_sample),\n",
    "        2).view(-1, 320), # flatten 处理卷积层结果\n",
    "    torch.randn(50, 320)\n",
    "    )\n",
    "fc2 = F.linear(F.relu(fc1), torch.randn(10, 50))\n",
    "out = F.log_softmax(fc2, dim=1)"
   ]
  },
  {
   "cell_type": "code",
   "execution_count": 17,
   "metadata": {},
   "outputs": [
    {
     "data": {
      "text/plain": [
       "tensor([[-7.2053e+01, -9.0526e+01, -2.0884e+01, -1.5955e+01, -2.8109e+00,\n",
       "         -1.1843e+02, -5.4338e+01, -5.6213e+01, -6.2038e-02, -2.6373e+01]],\n",
       "       grad_fn=<LogSoftmaxBackward>)"
      ]
     },
     "execution_count": 17,
     "metadata": {},
     "output_type": "execute_result"
    }
   ],
   "source": [
    "out"
   ]
  },
  {
   "cell_type": "code",
   "execution_count": 18,
   "metadata": {},
   "outputs": [
    {
     "data": {
      "text/plain": [
       "tensor(118.4317, grad_fn=<NllLossBackward>)"
      ]
     },
     "execution_count": 18,
     "metadata": {},
     "output_type": "execute_result"
    }
   ],
   "source": [
    "# 已经使用 log_softmax 处理数据，需要通过 nll_loss 计算损失值\n",
    "F.nll_loss(out, sample_data[1][1].reshape((1, )))"
   ]
  },
  {
   "cell_type": "code",
   "execution_count": 19,
   "metadata": {},
   "outputs": [],
   "source": [
    "class Net(nn.Module):\n",
    "    def __init__(self):\n",
    "        super().__init__()\n",
    "        self.conv1 = nn.Conv2d(in_channels=1, out_channels=10, kernel_size=5)\n",
    "        self.conv2 = nn.Conv2d(in_channels=10, out_channels=20, kernel_size=5)\n",
    "        self.conv2_drop = nn.Dropout2d()\n",
    "        self.fc1 = nn.Linear(320, 50)\n",
    "        self.fc2 = nn.Linear(50, 10)\n",
    "\n",
    "    def forward(self, x):\n",
    "        x = F.relu(F.max_pool2d(self.conv1(x), 2))\n",
    "        x = F.relu(F.max_pool2d(self.conv2_drop(self.conv2(x)), 2))\n",
    "        x = x.view(-1, 320) # Maybe better common description x = x.view(1, -1)\n",
    "        x = F.relu(self.fc1(x))\n",
    "        #x = F.dropout(x,p=0.1, training=self.training)\n",
    "        x = self.fc2(x)\n",
    "        return F.log_softmax(x,dim=1)"
   ]
  },
  {
   "cell_type": "code",
   "execution_count": 20,
   "metadata": {},
   "outputs": [],
   "source": [
    "model = Net()\n",
    "\n",
    "# if is_cuda:\n",
    "#     model.cuda()\n",
    "# former code is worst\n",
    "model = model.to(device)"
   ]
  },
  {
   "cell_type": "code",
   "execution_count": 21,
   "metadata": {},
   "outputs": [],
   "source": [
    "optimizer = optim.SGD(model.parameters(),lr=0.01)"
   ]
  },
  {
   "cell_type": "code",
   "execution_count": 22,
   "metadata": {},
   "outputs": [],
   "source": [
    "data , target = next(iter(train_loader))"
   ]
  },
  {
   "cell_type": "code",
   "execution_count": 23,
   "metadata": {},
   "outputs": [],
   "source": [
    "# output = model(Variable(data.cuda())) \n",
    "output = model(Variable(data.to(device))) # better way"
   ]
  },
  {
   "cell_type": "code",
   "execution_count": 24,
   "metadata": {},
   "outputs": [
    {
     "data": {
      "text/plain": [
       "torch.Size([32, 10])"
      ]
     },
     "execution_count": 24,
     "metadata": {},
     "output_type": "execute_result"
    }
   ],
   "source": [
    "output.size()"
   ]
  },
  {
   "cell_type": "code",
   "execution_count": 25,
   "metadata": {},
   "outputs": [
    {
     "data": {
      "text/plain": [
       "torch.Size([32])"
      ]
     },
     "execution_count": 25,
     "metadata": {},
     "output_type": "execute_result"
    }
   ],
   "source": [
    "target.size()"
   ]
  },
  {
   "cell_type": "code",
   "execution_count": 29,
   "metadata": {},
   "outputs": [],
   "source": [
    "def fit(epoch,model,data_loader,phase='training',volatile=False):\n",
    "    if phase == 'training':\n",
    "        model.train()\n",
    "    if phase == 'validation':\n",
    "        model.eval()\n",
    "        volatile=True\n",
    "    running_loss = 0.0\n",
    "    running_correct = 0\n",
    "    for batch_idx , (data,target) in enumerate(data_loader):\n",
    "        # if is_cuda:\n",
    "        #    data,target = data.cuda(),target.cuda()\n",
    "        data, target = data.to(device), target.to(device)\n",
    "        # Varibale is deprecated\n",
    "        # data , target = Variable(data,volatile),Variable(target) \n",
    "        if phase == 'training':\n",
    "            optimizer.zero_grad()\n",
    "        output = model(data)\n",
    "        loss = F.nll_loss(output,target)\n",
    "        \n",
    "        running_loss += F.nll_loss(output,target,size_average=False).item()\n",
    "        preds = output.data.max(dim=1,keepdim=True)[1]\n",
    "        running_correct += preds.eq(target.data.view_as(preds)).cpu().sum()\n",
    "        if phase == 'training':\n",
    "            loss.backward()\n",
    "            optimizer.step()\n",
    "    \n",
    "    loss = running_loss/len(data_loader.dataset)\n",
    "    accuracy = 100. * running_correct/len(data_loader.dataset)\n",
    "    \n",
    "    print(f'{phase} loss is {loss:{5}.{2}} and {phase} accuracy is {running_correct}/{len(data_loader.dataset)}{accuracy:{10}.{4}}')\n",
    "    return loss,accuracy"
   ]
  },
  {
   "cell_type": "code",
   "execution_count": 30,
   "metadata": {
    "scrolled": true
   },
   "outputs": [
    {
     "name": "stdout",
     "output_type": "stream",
     "text": [
      "training loss is  0.72 and training accuracy is 46232/60000     77.05\n",
      "validation loss is  0.18 and validation accuracy is 9408/10000     94.08\n",
      "training loss is   0.2 and training accuracy is 56512/60000     94.19\n",
      "validation loss is 0.095 and validation accuracy is 9706/10000     97.06\n",
      "training loss is  0.15 and training accuracy is 57353/60000     95.59\n",
      "validation loss is 0.073 and validation accuracy is 9774/10000     97.74\n",
      "training loss is  0.13 and training accuracy is 57701/60000     96.17\n",
      "validation loss is 0.062 and validation accuracy is 9799/10000     97.99\n",
      "training loss is  0.11 and training accuracy is 58006/60000     96.68\n",
      "validation loss is  0.06 and validation accuracy is 9816/10000     98.16\n",
      "training loss is   0.1 and training accuracy is 58143/60000      96.9\n",
      "validation loss is 0.047 and validation accuracy is 9838/10000     98.38\n",
      "training loss is 0.095 and training accuracy is 58327/60000     97.21\n",
      "validation loss is 0.042 and validation accuracy is 9861/10000     98.61\n",
      "training loss is 0.089 and training accuracy is 58398/60000     97.33\n",
      "validation loss is 0.041 and validation accuracy is 9857/10000     98.57\n",
      "training loss is 0.082 and training accuracy is 58508/60000     97.51\n",
      "validation loss is 0.039 and validation accuracy is 9870/10000      98.7\n",
      "training loss is 0.077 and training accuracy is 58633/60000     97.72\n",
      "validation loss is 0.037 and validation accuracy is 9876/10000     98.76\n",
      "training loss is 0.076 and training accuracy is 58644/60000     97.74\n",
      "validation loss is 0.036 and validation accuracy is 9875/10000     98.75\n",
      "training loss is 0.072 and training accuracy is 58689/60000     97.82\n",
      "validation loss is 0.035 and validation accuracy is 9886/10000     98.86\n",
      "training loss is 0.069 and training accuracy is 58736/60000     97.89\n",
      "validation loss is 0.034 and validation accuracy is 9891/10000     98.91\n",
      "training loss is 0.067 and training accuracy is 58783/60000     97.97\n",
      "validation loss is  0.03 and validation accuracy is 9893/10000     98.93\n",
      "training loss is 0.063 and training accuracy is 58886/60000     98.14\n",
      "validation loss is  0.03 and validation accuracy is 9900/10000      99.0\n",
      "training loss is 0.061 and training accuracy is 58891/60000     98.15\n",
      "validation loss is  0.03 and validation accuracy is 9901/10000     99.01\n",
      "training loss is  0.06 and training accuracy is 58962/60000     98.27\n",
      "validation loss is 0.029 and validation accuracy is 9901/10000     99.01\n",
      "training loss is 0.057 and training accuracy is 58992/60000     98.32\n",
      "validation loss is 0.027 and validation accuracy is 9899/10000     98.99\n",
      "training loss is 0.057 and training accuracy is 58966/60000     98.28\n",
      "validation loss is 0.031 and validation accuracy is 9897/10000     98.97\n"
     ]
    }
   ],
   "source": [
    "train_losses , train_accuracy = [],[]\n",
    "val_losses , val_accuracy = [],[]\n",
    "for epoch in range(1,20):\n",
    "    epoch_loss, epoch_accuracy = fit(epoch,model,train_loader,phase='training')\n",
    "    val_epoch_loss , val_epoch_accuracy = fit(epoch,model,test_loader,phase='validation')\n",
    "    train_losses.append(epoch_loss)\n",
    "    train_accuracy.append(epoch_accuracy)\n",
    "    val_losses.append(val_epoch_loss)\n",
    "    val_accuracy.append(val_epoch_accuracy)"
   ]
  },
  {
   "cell_type": "code",
   "execution_count": 31,
   "metadata": {},
   "outputs": [
    {
     "data": {
      "text/plain": [
       "<matplotlib.legend.Legend at 0x7fe21c6a50d0>"
      ]
     },
     "execution_count": 31,
     "metadata": {},
     "output_type": "execute_result"
    },
    {
     "data": {
      "image/png": "[encoded data removed]",
      "text/plain": [
       "<Figure size 432x288 with 1 Axes>"
      ]
     },
     "metadata": {
      "needs_background": "light"
     },
     "output_type": "display_data"
    }
   ],
   "source": [
    "plt.plot(range(1,len(train_losses)+1),train_losses,'bo',label = 'training loss')\n",
    "plt.plot(range(1,len(val_losses)+1),val_losses,'r',label = 'validation loss')\n",
    "plt.legend();"
   ]
  },
  {
   "cell_type": "code",
   "execution_count": 32,
   "metadata": {},
   "outputs": [
    {
     "data": {
      "image/png": "[encoded data removed]",
      "text/plain": [
       "<Figure size 432x288 with 1 Axes>"
      ]
     },
     "metadata": {
      "needs_background": "light"
     },
     "output_type": "display_data"
    }
   ],
   "source": [
    "plt.plot(range(1,len(train_accuracy)+1),train_accuracy,'bo',label = 'train accuracy')\n",
    "plt.plot(range(1,len(val_accuracy)+1),val_accuracy,'r',label = 'val accuracy')\n",
    "plt.legend();"
   ]
  },
  {
   "cell_type": "markdown",
   "metadata": {},
   "source": [
    "## Understanding 1d convolutions"
   ]
  },
  {
   "cell_type": "code",
   "execution_count": 33,
   "metadata": {},
   "outputs": [],
   "source": [
    "conv = nn.Conv1d(1,1,3,bias=False)"
   ]
  },
  {
   "cell_type": "code",
   "execution_count": 34,
   "metadata": {},
   "outputs": [
    {
     "data": {
      "text/plain": [
       "Parameter containing:\n",
       "tensor([[[-0.5291, -0.3016, -0.2987]]], requires_grad=True)"
      ]
     },
     "execution_count": 34,
     "metadata": {},
     "output_type": "execute_result"
    }
   ],
   "source": [
    "conv.weight"
   ]
  },
  {
   "cell_type": "code",
   "execution_count": 35,
   "metadata": {},
   "outputs": [],
   "source": [
    "sample = torch.randn(1,1,7)"
   ]
  },
  {
   "cell_type": "code",
   "execution_count": 36,
   "metadata": {},
   "outputs": [
    {
     "data": {
      "text/plain": [
       "tensor([[[ 2.2448, -0.5942, -0.5692,  0.5850, -0.1082, -0.2091, -0.1070]]])"
      ]
     },
     "execution_count": 36,
     "metadata": {},
     "output_type": "execute_result"
    }
   ],
   "source": [
    "sample"
   ]
  },
  {
   "cell_type": "code",
   "execution_count": 37,
   "metadata": {
    "scrolled": true
   },
   "outputs": [
    {
     "data": {
      "text/plain": [
       "tensor([[[-0.8384,  0.3113,  0.1570, -0.2144,  0.1523]]],\n",
       "       grad_fn=<SqueezeBackward1>)"
      ]
     },
     "execution_count": 37,
     "metadata": {},
     "output_type": "execute_result"
    }
   ],
   "source": [
    "conv(Variable(sample))"
   ]
  },
  {
   "cell_type": "markdown",
   "metadata": {},
   "source": [
    "### Understand how padding works in Conv1d"
   ]
  },
  {
   "cell_type": "code",
   "execution_count": 38,
   "metadata": {},
   "outputs": [
    {
     "data": {
      "text/plain": [
       "Parameter containing:\n",
       "tensor([[[ 0.0837, -0.1751, -0.4306]]], requires_grad=True)"
      ]
     },
     "execution_count": 38,
     "metadata": {},
     "output_type": "execute_result"
    }
   ],
   "source": [
    "conv = nn.Conv1d(1,1,3,padding=2,bias=False)\n",
    "conv.weight"
   ]
  },
  {
   "cell_type": "code",
   "execution_count": 39,
   "metadata": {},
   "outputs": [
    {
     "data": {
      "text/plain": [
       "tensor([[[-0.1973, -0.1720,  1.1594,  0.0947,  0.1548, -0.4772, -0.7744]]])"
      ]
     },
     "execution_count": 39,
     "metadata": {},
     "output_type": "execute_result"
    }
   ],
   "source": [
    "sample = torch.randn(1,1,7)\n",
    "sample"
   ]
  },
  {
   "cell_type": "code",
   "execution_count": 40,
   "metadata": {},
   "outputs": [
    {
     "data": {
      "text/plain": [
       "tensor([[[ 0.0850,  0.1086, -0.4856, -0.2582,  0.0138,  0.1863,  0.4299,\n",
       "           0.0956, -0.0648]]], grad_fn=<SqueezeBackward1>)"
      ]
     },
     "execution_count": 40,
     "metadata": {},
     "output_type": "execute_result"
    }
   ],
   "source": [
    "conv(Variable(sample))"
   ]
  },
  {
   "cell_type": "markdown",
   "metadata": {},
   "source": [
    "## 参考\n",
    "1. [Weight Initialization in Neural Networks](https://towardsdatascience.com/weight-initialization-in-neural-networks-a-journey-from-the-basics-to-kaiming-954fb9b47c79)\n",
    "\n",
    "    讲述权重初始化的几种方法以及为什么建议初始化过程使用非标准化权重更新的原因\n",
    "\n",
    "2. [基于卷积神经网络的面部表情识别(Pytorch实现)----台大李宏毅机器学习作业](https://www.cnblogs.com/HL-space/p/10888556.html)\n",
    "\n",
    "    构建了 CNN 的 Block 以及权重初始化调整的示例\n",
    "    \n",
    "3. [Pooling layers — PyTorch documentation](https://pytorch.org/docs/stable/nn.html#pooling-layers)\n",
    "\n",
    "    Pytorch 提供了多种池化方法"
   ]
  },
  {
   "cell_type": "code",
   "execution_count": null,
   "metadata": {},
   "outputs": [],
   "source": []
  }
 ],
 "metadata": {
  "kernelspec": {
   "display_name": "Python 3",
   "language": "python",
   "name": "python3"
  },
  "language_info": {
   "codemirror_mode": {
    "name": "ipython",
    "version": 3
   },
   "file_extension": ".py",
   "mimetype": "text/x-python",
   "name": "python",
   "nbconvert_exporter": "python",
   "pygments_lexer": "ipython3",
   "version": "3.7.4"
  }
 },
 "nbformat": 4,
 "nbformat_minor": 4
}
